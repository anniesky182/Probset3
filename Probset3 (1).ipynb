{
 "cells": [
  {
   "cell_type": "markdown",
   "id": "bcf60ff5-2f67-45e6-94c3-728aea53d8dc",
   "metadata": {},
   "source": [
    "### Problem set 3 \n",
    "\n",
    "Annie Kendzierski\n",
    "22100585"
   ]
  },
  {
   "cell_type": "code",
   "execution_count": 1,
   "id": "a41700b2-f692-4801-876b-43417d315fc8",
   "metadata": {},
   "outputs": [],
   "source": [
    "import numpy as np"
   ]
  },
  {
   "cell_type": "code",
   "execution_count": 2,
   "id": "e8aba7d8-4407-49e1-adba-68386e5c4667",
   "metadata": {},
   "outputs": [],
   "source": [
    "import random"
   ]
  },
  {
   "cell_type": "code",
   "execution_count": 3,
   "id": "6e3b75fa-3411-467c-9f78-89a3bbddb1a6",
   "metadata": {},
   "outputs": [],
   "source": [
    "import pandas as pd"
   ]
  },
  {
   "cell_type": "markdown",
   "id": "1ed05b24-1e03-4b69-ac54-5de0dd4bd6f4",
   "metadata": {},
   "source": [
    "#### Problem 1\n"
   ]
  },
  {
   "cell_type": "code",
   "execution_count": 4,
   "id": "c9c684f2-ebd7-4dd5-89d5-068878193c68",
   "metadata": {},
   "outputs": [],
   "source": [
    "\n",
    "def BasicKMeans(k, data):\n",
    "    data = np.array(data)\n",
    "    n, m = data.shape \n",
    "    C = data[random.sample(range(n), k)]  \n",
    "    L0 = [-1] * n  \n",
    "    L = [0] * n   \n",
    "    while L0 != L:\n",
    "        L0 = L[:]  \n",
    "        for i in range(n):\n",
    "            xi = data[i]  \n",
    "            min_dist = sum((xi[l] - C[0][l]) ** 2 for l in range(m))\n",
    "            closest_C = 0 \n",
    "            for j in range(1, k):\n",
    "                cj = C[j]\n",
    "                dist = sum((xi[l] - cj[l]) ** 2 for l in range(m))\n",
    "                if dist < min_dist:\n",
    "                    min_dist = dist\n",
    "                    closest_C = j\n",
    "            L[i] = closest_C\n",
    "        for j in range(k):\n",
    "            cluster = [data[x] for x in range(n) if L[x] == j]\n",
    "            if cluster:\n",
    "                C[j] = np.mean(cluster)\n",
    "    return {i: L[i] for i in range(n)}\n"
   ]
  },
  {
   "cell_type": "markdown",
   "id": "617ec1d6-34bd-46b3-a421-031c7895e95e",
   "metadata": {},
   "source": [
    "#### Problem 2\n"
   ]
  },
  {
   "cell_type": "markdown",
   "id": "6808694a-678f-421f-bb6d-348b52607835",
   "metadata": {},
   "source": [
    "#### (i)\n"
   ]
  },
  {
   "cell_type": "code",
   "execution_count": 5,
   "id": "612cdd55-39ed-48bc-8295-501d076f99f2",
   "metadata": {},
   "outputs": [
    {
     "name": "stdout",
     "output_type": "stream",
     "text": [
      "[[0 0 0 1 0 0 0 1]\n",
      " [0 0 0 0 0 0 0 0]\n",
      " [0 0 0 0 0 1 0 0]\n",
      " [1 0 0 0 0 0 0 1]\n",
      " [0 0 0 0 0 0 0 0]\n",
      " [0 0 1 0 0 0 0 0]\n",
      " [0 0 0 0 0 0 0 0]\n",
      " [1 0 0 1 0 0 0 0]]\n"
     ]
    }
   ],
   "source": [
    "G2= np.array([[0,0,0,1,0,0,0,1],\n",
    "              [0,0,0,0,0,0,0,0],\n",
    "              [0,0,0,0,0,1,0,0],\n",
    "              [1,0,0,0,0,0,0,1],\n",
    "              [0,0,0,0,0,0,0,0],\n",
    "              [0,0,1,0,0,0,0,0],\n",
    "              [0,0,0,0,0,0,0,0],\n",
    "              [1,0,0,1,0,0,0,0]])\n",
    "print(G2)"
   ]
  },
  {
   "cell_type": "code",
   "execution_count": 6,
   "id": "89ec1b04-a83f-4693-8545-853c89954c8d",
   "metadata": {},
   "outputs": [
    {
     "name": "stdout",
     "output_type": "stream",
     "text": [
      "[[0 0 0 1 0 0 0 1]\n",
      " [0 0 1 0 0 1 0 0]\n",
      " [0 1 0 0 0 1 1 0]\n",
      " [1 0 0 0 1 0 0 1]\n",
      " [0 0 0 1 0 0 1 0]\n",
      " [0 1 1 0 0 0 1 0]\n",
      " [0 0 1 0 1 1 0 0]\n",
      " [1 0 0 1 0 0 0 0]]\n"
     ]
    }
   ],
   "source": [
    "G5= np.array([[0,0,0,1,0,0,0,1],\n",
    "              [0,0,1,0,0,1,0,0],\n",
    "              [0,1,0,0,0,1,1,0],\n",
    "              [1,0,0,0,1,0,0,1],\n",
    "              [0,0,0,1,0,0,1,0],\n",
    "              [0,1,1,0,0,0,1,0],\n",
    "              [0,0,1,0,1,1,0,0],\n",
    "              [1,0,0,1,0,0,0,0]])\n",
    "print(G5)"
   ]
  },
  {
   "cell_type": "code",
   "execution_count": 7,
   "id": "78cefc61-ab36-4eb5-8c8c-10b59e450b2e",
   "metadata": {},
   "outputs": [
    {
     "name": "stdout",
     "output_type": "stream",
     "text": [
      "[[0 0 1 1 1 1 1 1]\n",
      " [0 0 1 1 1 1 1 0]\n",
      " [1 1 0 1 1 1 1 1]\n",
      " [1 1 1 0 1 1 1 1]\n",
      " [1 1 1 1 0 1 1 1]\n",
      " [1 1 1 1 1 0 1 0]\n",
      " [1 1 1 1 1 1 0 1]\n",
      " [1 0 1 1 1 0 1 0]]\n"
     ]
    }
   ],
   "source": [
    "G8= np.array([[0,0,1,1,1,1,1,1],\n",
    "              [0,0,1,1,1,1,1,0],\n",
    "              [1,1,0,1,1,1,1,1],\n",
    "              [1,1,1,0,1,1,1,1],\n",
    "              [1,1,1,1,0,1,1,1],\n",
    "              [1,1,1,1,1,0,1,0],\n",
    "              [1,1,1,1,1,1,0,1],\n",
    "              [1,0,1,1,1,0,1,0]])\n",
    "print(G8)"
   ]
  },
  {
   "cell_type": "markdown",
   "id": "4b7e9c57-9997-479a-a761-2418c442b152",
   "metadata": {},
   "source": [
    "#### (ii)\n"
   ]
  },
  {
   "cell_type": "code",
   "execution_count": 8,
   "id": "28d1aef1-d1f0-4d47-a901-993891a886e3",
   "metadata": {},
   "outputs": [],
   "source": [
    "Ds= [(0,[{1},{2},{3},{4},{5},{6},{7},{8}]),\n",
    "     (1,[{1,4},{3},{5},{6},{7},{8}]),\n",
    "     (2,[{1,4,8},{3,6},{2},{5},{7}]),\n",
    "     (3,[{1,4,8},{2,3,6},{5,7}]),\n",
    "     (4,[{1,4,8},{2,3,5,6,7}]),\n",
    "     (5,[{1,2,3,4,5,6,7,8}]),\n",
    "     (6,[{1,2,3,4,5,6,7,8}]),\n",
    "     (7,[{1,2,3,4,5,6,7,8}]),\n",
    "     (8,[{1,2,3,4,5,6,7,8}])]"
   ]
  },
  {
   "cell_type": "code",
   "execution_count": 9,
   "id": "5cf902fa-9f53-4161-8467-2bc28cfae34d",
   "metadata": {},
   "outputs": [],
   "source": [
    "Dc= [(0,[{1},{2},{3},{4},{5},{6},{7},{8}]),\n",
    "     (1,[{1,4},{3},{5},{6},{7},{8}]),\n",
    "     (2,[{1,4,8},{3,6},{2},{5},{7}]),\n",
    "     (3,[{1,4,8},{2},{3,6},{5,7}]),\n",
    "     (4,[{1,4,8}, {2,3,6},{7,5}]),\n",
    "     (5,[{1,4,8}, {2,3,6},{7,5}]),\n",
    "     (6,[{1,4,8}, {2,3,6},{7,5}]),\n",
    "     (7,[{1,4,8,7,5}, {2,3,6},]),\n",
    "     (8,[{1,4,8,7,5}, {2,3,6},]),\n",
    "     (9,[{1,4,8,7,5}, {2,3,6},]),\n",
    "     (10,[{1,2,3,4,5,6,7,8,}])]"
   ]
  },
  {
   "cell_type": "code",
   "execution_count": null,
   "id": "6018fe21-c85e-407c-ac1e-23c31000ea62",
   "metadata": {},
   "outputs": [],
   "source": []
  },
  {
   "cell_type": "code",
   "execution_count": null,
   "id": "07b1889b-caf7-4ec6-a7f2-8bf6c316562b",
   "metadata": {},
   "outputs": [],
   "source": []
  }
 ],
 "metadata": {
  "kernelspec": {
   "display_name": "Python [conda env:base] *",
   "language": "python",
   "name": "conda-base-py"
  },
  "language_info": {
   "codemirror_mode": {
    "name": "ipython",
    "version": 3
   },
   "file_extension": ".py",
   "mimetype": "text/x-python",
   "name": "python",
   "nbconvert_exporter": "python",
   "pygments_lexer": "ipython3",
   "version": "3.12.7"
  }
 },
 "nbformat": 4,
 "nbformat_minor": 5
}
